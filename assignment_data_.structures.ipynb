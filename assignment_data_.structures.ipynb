{
 "cells": [
  {
   "cell_type": "code",
   "execution_count": 1,
   "id": "62ba2273-d129-48c5-99a1-d5c10266eabc",
   "metadata": {},
   "outputs": [],
   "source": [
    "# assignment_data_.structures #"
   ]
  },
  {
   "cell_type": "code",
   "execution_count": 2,
   "id": "4c735cfa-1a75-438b-8e9e-3455540540f9",
   "metadata": {},
   "outputs": [
    {
     "name": "stdout",
     "output_type": "stream",
     "text": [
      "mar olleh\n"
     ]
    }
   ],
   "source": [
    "#1# reverse sting\n",
    "s = \"hello ram\" [::-1]\n",
    "print (s)"
   ]
  },
  {
   "cell_type": "code",
   "execution_count": 3,
   "id": "6a656683-ed3e-4ded-a737-f2f4a6a2acc6",
   "metadata": {},
   "outputs": [
    {
     "name": "stdout",
     "output_type": "stream",
     "text": [
      "4\n"
     ]
    }
   ],
   "source": [
    "#2# count  vowels\n",
    "alpha = \"dkeinusah\"\n",
    "vowels = \"aieou\"\n",
    "count = sum(alpha.count(vowel) for vowel in vowels)\n",
    "print((count))"
   ]
  },
  {
   "cell_type": "code",
   "execution_count": 4,
   "id": "6faa949d-098a-46d7-a5ad-8046bc7311ed",
   "metadata": {},
   "outputs": [
    {
     "name": "stdout",
     "output_type": "stream",
     "text": [
      "No\n"
     ]
    }
   ],
   "source": [
    "#3# palindrome check  code\n",
    "def ispalindrome (s) :\n",
    "  return s == s [::-1]\n",
    "\n",
    "s = \"nurses run\"\n",
    "ans = ispalindrome(s)\n",
    "if ans:\n",
    "  print (\"Yes\")\n",
    "else :\n",
    "  print (\"No\")"
   ]
  },
  {
   "cell_type": "code",
   "execution_count": 5,
   "id": "33182468-69f6-400e-8386-ab0721d9053e",
   "metadata": {},
   "outputs": [
    {
     "name": "stdout",
     "output_type": "stream",
     "text": [
      "True\n"
     ]
    }
   ],
   "source": [
    "ram_says = \" rain in city  stay in  stadium \"\n",
    "x = \"ain \" in ram_says\n",
    "print(x)"
   ]
  },
  {
   "cell_type": "code",
   "execution_count": 6,
   "id": "0a38d401-a10c-4ff9-99e0-68cc6fd7ca11",
   "metadata": {},
   "outputs": [
    {
     "name": "stdout",
     "output_type": "stream",
     "text": [
      "The two string of anagrams of each other\n"
     ]
    }
   ],
   "source": [
    "#4#check two string are anagram of each other\n",
    "str1 = \"listen\"\n",
    "str2 = \"silent\"\n",
    "is_anagram = lambda  s1 , s2 : all(s1.count(c) == s2.count(c)for c in set (s + s2 ))\n",
    "if is_anagram ( str1 , str2 ) :\n",
    "  print (\"The two string of anagrams of each other\")\n",
    "else :\n",
    "  print (\"The two string are not anagram of each othe\" )"
   ]
  },
  {
   "cell_type": "code",
   "execution_count": 7,
   "id": "6d153d43-6f80-4054-853d-3cb65f45d8df",
   "metadata": {},
   "outputs": [
    {
     "name": "stdout",
     "output_type": "stream",
     "text": [
      "s1 occurs 3 times \n"
     ]
    }
   ],
   "source": [
    "#5# substring occerrence in astring\n",
    "s= \"hello my name is saurab\"\n",
    "s1 =\"a\"\n",
    "my_count = s.count(s1)\n",
    "print(\"s1 occurs %d times \" % my_count)"
   ]
  },
  {
   "cell_type": "code",
   "execution_count": 8,
   "id": "e0329b3b-ae9b-47f6-ad93-44ff3dd70331",
   "metadata": {},
   "outputs": [
    {
     "name": "stdout",
     "output_type": "stream",
     "text": [
      "s = 3 items\n",
      "h = 1 items\n",
      "j = 3 items\n",
      "e = 2 items\n",
      "r = 1 items\n",
      "n = 1 items\n",
      "s = 3 items\n",
      "u = 2 items\n",
      "e = 2 items\n",
      "j = 3 items\n",
      "s = 3 items\n",
      "j = 3 items\n",
      "u = 2 items\n",
      "d = 1 items\n"
     ]
    }
   ],
   "source": [
    "# 6# count repeat character in astrin\n",
    "str = \"shjernsuejsjud\"\n",
    "for i in str :\n",
    "  print (i, '=',str.count(i),'items')"
   ]
  },
  {
   "cell_type": "code",
   "execution_count": 9,
   "id": "975e7e52-6463-4fa0-9648-463fc1cb5a3a",
   "metadata": {},
   "outputs": [
    {
     "name": "stdout",
     "output_type": "stream",
     "text": [
      " pwskills\n"
     ]
    }
   ],
   "source": [
    "#8# string convert upper case to lowercase\n",
    "str =\" PWSKILLS\"\n",
    "print(str.lower())"
   ]
  },
  {
   "cell_type": "code",
   "execution_count": 10,
   "id": "c8967464-ba1b-436b-9044-fb4f1d789a97",
   "metadata": {},
   "outputs": [
    {
     "name": "stdout",
     "output_type": "stream",
     "text": [
      "the string pwskills contains duplicate elements\n"
     ]
    }
   ],
   "source": [
    "#7# find unique character in string .\n",
    "def isUniquecharacter(s):\n",
    "  sorted(s)\n",
    "  for i in range(len(s)-1):\n",
    "    if s[i]==s[i+1]:\n",
    "      return False\n",
    "  return True\n",
    "s=\"pwskills\"\n",
    "if isUniquecharacter(s):\n",
    "  print(\"the string\",s,\"contains all unique element\")\n",
    "else :\n",
    "  print(\"the string\",s,\"contains duplicate elements\")"
   ]
  },
  {
   "cell_type": "code",
   "execution_count": 11,
   "id": "3c67084b-fbdb-455d-8f5f-7c7fb933bd97",
   "metadata": {},
   "outputs": [
    {
     "data": {
      "text/plain": [
       "True"
      ]
     },
     "execution_count": 11,
     "metadata": {},
     "output_type": "execute_result"
    }
   ],
   "source": [
    "#7#\n",
    "str1 =\"pwskills\"\n",
    "str1.isalnum()"
   ]
  },
  {
   "cell_type": "code",
   "execution_count": 12,
   "id": "d52290b6-a4f7-46d5-ac03-896a85d9a55d",
   "metadata": {},
   "outputs": [
    {
     "data": {
      "text/plain": [
       "False"
      ]
     },
     "execution_count": 12,
     "metadata": {},
     "output_type": "execute_result"
    }
   ],
   "source": [
    "str2 = \"pw skills\"\n",
    "str2.isalnum()"
   ]
  },
  {
   "cell_type": "code",
   "execution_count": 13,
   "id": "b79389ff-9d57-4bfc-bcfd-cbc7f8a51b35",
   "metadata": {},
   "outputs": [
    {
     "name": "stdout",
     "output_type": "stream",
     "text": [
      "5\n"
     ]
    }
   ],
   "source": [
    "#9# count word instring\n",
    "str1 = \"hi my name is saurabh\"\n",
    "word_count = len (str1.split())\n",
    "print(word_count)"
   ]
  },
  {
   "cell_type": "code",
   "execution_count": 14,
   "id": "358a7785-04d7-4aee-ac17-cc12bf040522",
   "metadata": {},
   "outputs": [
    {
     "name": "stdout",
     "output_type": "stream",
     "text": [
      "[7, 3, 9, 2, 5, 4]\n"
     ]
    }
   ],
   "source": [
    "#10# concatenate string without using + operator\n",
    "str1 = [7,3,9]\n",
    "str2 = [2,5,4]\n",
    "str1.extend(str2)\n",
    "print(str1)"
   ]
  },
  {
   "cell_type": "code",
   "execution_count": 15,
   "id": "37684b78-dbe2-4968-bfe8-0d4933f04b0b",
   "metadata": {},
   "outputs": [
    {
     "name": "stdout",
     "output_type": "stream",
     "text": [
      "[2, 4, 5, 8, 6, 9, 6, 23, 24]\n"
     ]
    }
   ],
   "source": [
    "#11# remove all occerrences of aspecific item.\n",
    "s= [2,4,5,8,6,9,3,6,3,23,24,3,]\n",
    "frequency =s.count(3)\n",
    "for i in range(frequency):\n",
    "  s.remove(3)\n",
    "print(s)"
   ]
  },
  {
   "cell_type": "code",
   "execution_count": 16,
   "id": "b9f90c16-d5d2-4150-8b68-76c38e301c59",
   "metadata": {},
   "outputs": [
    {
     "name": "stdout",
     "output_type": "stream",
     "text": [
      "[11, 24, 34, 46, 56, 78]\n",
      "secound largest number is: 56\n"
     ]
    }
   ],
   "source": [
    "#12# find secoun largest numbe\n",
    "num=[24,56,78,11,34,46]\n",
    "num.sort()\n",
    "print(num)\n",
    "print(\"secound largest number is:\",num[-2])"
   ]
  },
  {
   "cell_type": "code",
   "execution_count": 17,
   "id": "e9ae513a-f66c-45d2-ac36-ef78b3c19336",
   "metadata": {},
   "outputs": [
    {
     "name": "stdout",
     "output_type": "stream",
     "text": [
      "Counter({'green': 3, 'blue': 2, 'red': 2, 'brown': 1, 'red  ': 1})\n"
     ]
    }
   ],
   "source": [
    "##13# cteate a list and convert into dictionory with there count\n",
    "from collections import Counter\n",
    "colors =[\"blue\",\"red\",\"green\",\"blue\",\"red\",\"brown\",\"green\",\"green\",\"red  \" ]\n",
    "color_counts = Counter  (colors)\n",
    "print(color_counts)"
   ]
  },
  {
   "cell_type": "code",
   "execution_count": 18,
   "id": "da91a24d-9bfe-4871-90eb-058c3620dd43",
   "metadata": {},
   "outputs": [
    {
     "name": "stdout",
     "output_type": "stream",
     "text": [
      "5 4 3 2 1 "
     ]
    }
   ],
   "source": [
    "#14# reverse liist without using revese function\n",
    "l=[1,2,3,4,5]\n",
    "for i in range(len(l)-1,-1,-1):\n",
    "  print(l[i],end=\" \")"
   ]
  },
  {
   "cell_type": "code",
   "execution_count": 19,
   "id": "b2a7c478-e463-4381-8a74-4a0f754cc75f",
   "metadata": {},
   "outputs": [
    {
     "name": "stdout",
     "output_type": "stream",
     "text": [
      "{2, 4, 5, 6, 7, 8, 9}\n",
      "[2, 4, 9, 2, 9, 7, 6, 8, 5, 5, 2, 8]\n"
     ]
    }
   ],
   "source": [
    "#15# find and revers duplicate item\n",
    "a = [ 2,4,9,2,9,7,6,8,5,5,2,8]\n",
    "dup_item = set()\n",
    "uniq_item = []\n",
    "for i in   a:\n",
    "  if i not in dup_item:\n",
    "    uniq_item.append(i)\n",
    "    dup_item.add(i)\n",
    "print(dup_item)\n",
    "print(a)"
   ]
  },
  {
   "cell_type": "code",
   "execution_count": 20,
   "id": "5c0ed93a-fa95-4508-b0c0-a4f0ee01ba51",
   "metadata": {},
   "outputs": [
    {
     "name": "stdout",
     "output_type": "stream",
     "text": [
      "[2, 7, 8, 9, 43, 86, 87, 99]\n",
      "[99, 87, 86, 43, 9, 8, 7, 2]\n"
     ]
    }
   ],
   "source": [
    "#16# find ascending ordet and dscending order .\n",
    "list =[87,2,99,7,9,43,8,86]\n",
    "\n",
    "list.sort()\n",
    "print(list)\n",
    "list.sort(reverse=True )\n",
    "print(list)"
   ]
  },
  {
   "cell_type": "code",
   "execution_count": 21,
   "id": "9ae5f577-9e58-4e3b-a85e-6cccf1f8a9a3",
   "metadata": {},
   "outputs": [
    {
     "name": "stdout",
     "output_type": "stream",
     "text": [
      "[1, 4, 6, 9, 7, 3, 8, 2]\n"
     ]
    }
   ],
   "source": [
    "#17# merge two sorted list in to one.\n",
    "list = [1,4,6,9]\n",
    "t = [7,3,8,2 ]\n",
    "print(list + t)"
   ]
  },
  {
   "cell_type": "code",
   "execution_count": 23,
   "id": "b8092952-1ab5-4e6c-afc0-ee58a7991876",
   "metadata": {},
   "outputs": [
    {
     "name": "stdin",
     "output_type": "stream",
     "text": [
      "list 1: 2,3,4,5,\n",
      "list 2: 3,2,7,8\n"
     ]
    },
    {
     "name": "stdout",
     "output_type": "stream",
     "text": [
      "COMMON ELEMENT:\n",
      "[2, 3]\n"
     ]
    }
   ],
   "source": [
    "#18# intersection of two different list\n",
    "a =eval(input('list 1:'))\n",
    "b =eval(input('list 2:'))\n",
    "c=[]\n",
    "for i in a:\n",
    "  for j in b:\n",
    "    if i==j:\n",
    "      c.append(i)\n",
    "print('COMMON ELEMENT:')\n",
    "print(c)"
   ]
  },
  {
   "cell_type": "code",
   "execution_count": 24,
   "id": "b01f6cd0-e42f-40f7-8a33-65ed6e4c2a64",
   "metadata": {},
   "outputs": [
    {
     "name": "stdout",
     "output_type": "stream",
     "text": [
      "intersec of lists: {4, 6}\n"
     ]
    }
   ],
   "source": [
    "#18# intersection of two different los\n",
    "a =[2,4,6,8,22,16]\n",
    "b =[1,3,5,7,9,6,4]\n",
    "intersec =(set(a)  &  set(b ))\n",
    "print(\"intersec of lists:\",intersec)"
   ]
  },
  {
   "cell_type": "code",
   "execution_count": 25,
   "id": "0275defa-1295-4e23-a0ae-e33337f38c2a",
   "metadata": {},
   "outputs": [
    {
     "name": "stdout",
     "output_type": "stream",
     "text": [
      "union of lists: {3, 4, 5, 7, 8, 9}\n"
     ]
    }
   ],
   "source": [
    " #19# union of two list\n",
    " list1 =[3,5,7]\n",
    "list2 =[9,4,8]\n",
    "union = (set(list1)  |  set( list2 ))\n",
    "print(\"union of lists:\",union )"
   ]
  },
  {
   "cell_type": "code",
   "execution_count": 26,
   "id": "8f1a650b-bbe5-4862-89b5-2aa9cf01416f",
   "metadata": {},
   "outputs": [
    {
     "name": "stdout",
     "output_type": "stream",
     "text": [
      "[88, 55, 77, 22, 44, 66, 33]\n"
     ]
    }
   ],
   "source": [
    "#20# suffle a list randomly\n",
    "import random\n",
    "a = [22,33,44,55,66,77,88]\n",
    "random.shuffle( a )\n",
    "print(a)"
   ]
  },
  {
   "cell_type": "code",
   "execution_count": 27,
   "id": "ffe82092-9421-4b3e-b2be-cfa4486d4258",
   "metadata": {},
   "outputs": [
    {
     "name": "stdin",
     "output_type": "stream",
     "text": [
      "enter a tuple :- 2,6,4,2\n",
      "enter a tuple :- 1,3,7,8\n"
     ]
    },
    {
     "name": "stdout",
     "output_type": "stream",
     "text": [
      "(2, 6, 4, 2, 1, 3, 7, 8)\n"
     ]
    }
   ],
   "source": [
    "#21# input two tuple and which cantain both tuple\n",
    "tup1 = eval(input(\"enter a tuple :-\"))\n",
    "tup2  = eval(input(\"enter a tuple :-\"))\n",
    "\n",
    "tup3 = tup1 + tup2\n",
    "print(tup3)"
   ]
  },
  {
   "cell_type": "code",
   "execution_count": 28,
   "id": "f42eab51-b530-4169-a214-c9251bcf8d97",
   "metadata": {},
   "outputs": [
    {
     "name": "stdout",
     "output_type": "stream",
     "text": [
      "{65, 75}\n"
     ]
    }
   ],
   "source": [
    "#22# intersect comon integers of both set\n",
    "set1 ={45,65,75,85,95}\n",
    "set2 ={24,25,69,75,65,94}\n",
    "set3 = set1  &  set2\n",
    "print(set3)"
   ]
  },
  {
   "cell_type": "code",
   "execution_count": 29,
   "id": "16a4800f-c312-435d-97de-a28fe3b3810c",
   "metadata": {},
   "outputs": [
    {
     "name": "stdout",
     "output_type": "stream",
     "text": [
      "('banana', 'orange', 'apple', 'potato', 'tomato', 'brinjal ')\n"
     ]
    }
   ],
   "source": [
    "#23# contains all elements\n",
    "fruit =('banana','orange','apple')\n",
    "vegs =('potato','tomato','brinjal ' )\n",
    "print(fruit + vegs )"
   ]
  },
  {
   "cell_type": "code",
   "execution_count": 30,
   "id": "bcde45ed-c8a2-434b-8836-a4475237fef5",
   "metadata": {},
   "outputs": [
    {
     "name": "stdout",
     "output_type": "stream",
     "text": [
      "{'mahi', 'avi', 'bob', 'shyam', 'ram'}\n"
     ]
    }
   ],
   "source": [
    "set1 ={'bob','ram','avi','rob'}\n",
    "set2 ={'rob','shyam','mahi'}\n",
    "set3 =(set1 ^ set2)\n",
    "print(set3)"
   ]
  },
  {
   "cell_type": "code",
   "execution_count": 31,
   "id": "a83e6098-c19b-4191-8702-620f0b7c93b5",
   "metadata": {},
   "outputs": [
    {
     "name": "stdout",
     "output_type": "stream",
     "text": [
      "{'avi', 'bob', 'ram'}\n"
     ]
    }
   ],
   "source": [
    "#24# create two set and print\n",
    "set1 ={'bob','ram','avi','rob'}\n",
    "set2 ={'rob','shyam','mahi'}\n",
    "set3 =set1  .difference(set2  )\n",
    "print(set3)"
   ]
  },
  {
   "cell_type": "code",
   "execution_count": 32,
   "id": "1b27f5f2-6576-4fe1-b56d-184b90d61804",
   "metadata": {},
   "outputs": [
    {
     "data": {
      "text/plain": [
       "{(34, 80), '7'}"
      ]
     },
     "execution_count": 32,
     "metadata": {},
     "output_type": "execute_result"
    }
   ],
   "source": [
    "#25# update tuple having previous value\n",
    "x=(34,80)\n",
    "x={(34,80)}\n",
    "x.update(\"7\")\n",
    "x"
   ]
  },
  {
   "cell_type": "code",
   "execution_count": 33,
   "id": "50968cf5-e7fe-4fdd-8263-6c58039f8c8f",
   "metadata": {},
   "outputs": [
    {
     "name": "stdout",
     "output_type": "stream",
     "text": [
      "{65, 69, 75, 45, 85, 24, 25, 94, 95}\n"
     ]
    }
   ],
   "source": [
    "#26# union of two set\n",
    "set1 ={45,65,75,85,95}\n",
    "set2 ={24,25,69,75,65,94}\n",
    "set3 = set1 | set2\n",
    "print(set3 )"
   ]
  },
  {
   "cell_type": "code",
   "execution_count": 34,
   "id": "72588071-a918-4d42-96bc-8cab434ca273",
   "metadata": {},
   "outputs": [
    {
     "name": "stdout",
     "output_type": "stream",
     "text": [
      "598\n",
      "26\n"
     ]
    }
   ],
   "source": [
    "#27# find in a tuple max,min value by using\n",
    "a = (55,77,109,205,533,476,26,598,256,148)\n",
    "print(max(a))\n",
    "print(min(a))"
   ]
  },
  {
   "cell_type": "code",
   "execution_count": 35,
   "id": "7543e21d-85b4-45a9-af50-32c0f6408469",
   "metadata": {},
   "outputs": [
    {
     "name": "stdout",
     "output_type": "stream",
     "text": [
      "{82, 36, 47}\n",
      "{68, 5, 7, 72, 74, 82, 22, 89, 25, 29, 94, 96, 35, 36, 38, 44, 47, 51, 53}\n",
      "{96, 35, 68, 5, 38, 7, 72, 74, 44, 51, 53, 22, 94, 89, 29, 25}\n"
     ]
    }
   ],
   "source": [
    "#28# find inthe two  set intersection,union and difference,\n",
    "s1 ={22,36,47,51,68,74,82,96,35,7,72}\n",
    "s2 ={29,38,44,53,94,47,5,82,25,36,89}\n",
    "print (s1 & s2)\n",
    "print (s1 | s2 )\n",
    "print (s1 ^ s2)"
   ]
  },
  {
   "cell_type": "code",
   "execution_count": 36,
   "id": "1b7d95d7-7524-443b-9b85-96dffcd557a8",
   "metadata": {},
   "outputs": [
    {
     "name": "stdout",
     "output_type": "stream",
     "text": [
      "55  -  3\n",
      "77  -  1\n",
      "109  -  2\n",
      "205  -  2\n"
     ]
    }
   ],
   "source": [
    "#29# the function of return occurrence of count elem\n",
    "a = (55,77,109,205,55,476,205,55,476,109)\n",
    "i = 0\n",
    "for e in a:\n",
    "  if i==a.index(e):\n",
    "    print(e,' - ',a.count(e))\n",
    "    i+=1"
   ]
  },
  {
   "cell_type": "code",
   "execution_count": 37,
   "id": "efc359b9-1a81-4c72-ba5f-8d16432d8b85",
   "metadata": {},
   "outputs": [
    {
     "name": "stdout",
     "output_type": "stream",
     "text": [
      "{'chess', 'swiming', 'handball', 'tenis', 'football'}\n"
     ]
    }
   ],
   "source": [
    "#30# symetrical difference in two set.\n",
    "my_fav ={'cricket','football','ludo','chess','tenis' }\n",
    "friend_fav ={'handball','cricket','swiming','ludo'}\n",
    "print (my_fav ^ friend_fav)"
   ]
  },
  {
   "cell_type": "code",
   "execution_count": 38,
   "id": "8f5490f5-8f41-4c38-a86f-b55ae3d368ca",
   "metadata": {},
   "outputs": [
    {
     "data": {
      "text/plain": [
       "{'name': 'saurabh', 'email': 'ga@gmail.com', 'contact': '1234'}"
      ]
     },
     "execution_count": 38,
     "metadata": {},
     "output_type": "execute_result"
    }
   ],
   "source": [
    "#31# write a dictionary ,\n",
    "d ={\"name\":\"saurabh\",\"email\": \"ga@gmail.com\",\"contact\":\"1234\"}\n",
    "d"
   ]
  },
  {
   "cell_type": "code",
   "execution_count": 39,
   "id": "aba72a52-9867-4d02-9b0d-8fec75e93446",
   "metadata": {},
   "outputs": [
    {
     "data": {
      "text/plain": [
       "dict_keys(['name', 'email', 'contact'])"
      ]
     },
     "execution_count": 39,
     "metadata": {},
     "output_type": "execute_result"
    }
   ],
   "source": [
    "d.keys()"
   ]
  },
  {
   "cell_type": "code",
   "execution_count": 40,
   "id": "41f39337-3612-445b-a45d-44045885c79e",
   "metadata": {},
   "outputs": [
    {
     "data": {
      "text/plain": [
       "dict_values(['saurabh', 'ga@gmail.com', '1234'])"
      ]
     },
     "execution_count": 40,
     "metadata": {},
     "output_type": "execute_result"
    }
   ],
   "source": [
    "d.values()"
   ]
  },
  {
   "cell_type": "code",
   "execution_count": 41,
   "id": "1c30b1e2-9092-4dec-80af-b0907c78c770",
   "metadata": {},
   "outputs": [
    {
     "data": {
      "text/plain": [
       "dict_items([('name', 'saurabh'), ('email', 'ga@gmail.com'), ('contact', '1234')])"
      ]
     },
     "execution_count": 41,
     "metadata": {},
     "output_type": "execute_result"
    }
   ],
   "source": [
    "d.items()"
   ]
  },
  {
   "cell_type": "code",
   "execution_count": 42,
   "id": "ce264643-f07d-46ef-8be2-25ac98787f95",
   "metadata": {},
   "outputs": [
    {
     "data": {
      "text/plain": [
       "{'plname': ['ajay', 'bob', 'rob'], 'match': 'cricket', 'start': '16may24'}"
      ]
     },
     "execution_count": 42,
     "metadata": {},
     "output_type": "execute_result"
    }
   ],
   "source": [
    "#32# two dictionory marge with first one .\n",
    "d1 ={\"plname\":['ajay','bob','rob']}\n",
    "d2 ={\"match\": 'cricket', \"start\":'16may24'}\n",
    "d1.update(d2)\n",
    "d1"
   ]
  },
  {
   "cell_type": "code",
   "execution_count": 43,
   "id": "a23cea33-3282-4bb0-8eb3-2f58921395a4",
   "metadata": {},
   "outputs": [
    {
     "name": "stdout",
     "output_type": "stream",
     "text": [
      "dictionory in ascending order by valie: {5: 2, 3: 4, 2: 1, 1: 5, 'key': operator.itemgetter(1)}\n",
      "dictionory in dscending order by value: {1: 5, 3: 4, 5: 2, 2: 1}\n"
     ]
    }
   ],
   "source": [
    "#34# find ascending and dscending order in a dictionory\n",
    "import operator\n",
    "d = {5:2,3:4,2:1,1:5}\n",
    "sorted_d = dict(d.items(), key=operator.itemgetter(1))\n",
    "print(\"dictionory in ascending order by valie:\", sorted_d)\n",
    "sorted_d =dict(sorted(d.items(),key=operator.itemgetter(1), reverse=True))\n",
    "print(\"dictionory in dscending order by value:\", sorted_d)"
   ]
  },
  {
   "cell_type": "code",
   "execution_count": 44,
   "id": "62245e72-12b5-4c6c-9704-5516b26f3f95",
   "metadata": {},
   "outputs": [
    {
     "data": {
      "text/plain": [
       "{'name': 'saurabh', 'sport': 'football', 'playing_day': 'monday thursday '}"
      ]
     },
     "execution_count": 44,
     "metadata": {},
     "output_type": "execute_result"
    }
   ],
   "source": [
    "##33# nested dictionory\n",
    "player_id ={\n",
    "    'SC001':{'name': 'saurabh','sport':'football','playing_day':'monday thursday ' },\n",
    "    'SC002':{'name': 'shivi','sport':'tennis  ','playing_day':'tuesday  friday ' },\n",
    "    'SC003':{'name': 'bob ','sport':'cricket ','playing_day':'wednesday  saturday  ' }\n",
    "}\n",
    "player_id['SC001']"
   ]
  },
  {
   "cell_type": "code",
   "execution_count": 45,
   "id": "8dfe72c3-24b2-4d04-9724-30051fb1494e",
   "metadata": {},
   "outputs": [
    {
     "data": {
      "text/plain": [
       "{'name': 'bob ', 'sport': 'cricket ', 'playing_day': 'wednesday  saturday  '}"
      ]
     },
     "execution_count": 45,
     "metadata": {},
     "output_type": "execute_result"
    }
   ],
   "source": [
    "player_id['SC003']"
   ]
  },
  {
   "cell_type": "code",
   "execution_count": 46,
   "id": "d5193ebf-84e1-42ae-a8d2-9546f612eaea",
   "metadata": {},
   "outputs": [
    {
     "data": {
      "text/plain": [
       "{'name': 'shivi', 'sport': 'tennis  ', 'playing_day': 'tuesday  friday '}"
      ]
     },
     "execution_count": 46,
     "metadata": {},
     "output_type": "execute_result"
    }
   ],
   "source": [
    "player_id['SC002']"
   ]
  },
  {
   "cell_type": "code",
   "execution_count": 47,
   "id": "c31a3847-61da-43f2-95de-0335cc23c22f",
   "metadata": {},
   "outputs": [
    {
     "name": "stdout",
     "output_type": "stream",
     "text": [
      "{'empl1': 'rony', 'empl2': 'bob', 'empl3': 'rob'}\n",
      "{'rony': 'empl1', 'bob': 'empl2', 'rob': 'empl3'}\n"
     ]
    }
   ],
   "source": [
    "#35# create a invert dictionory and swapping keys and value\n",
    "d ={\n",
    "    \"empl1\":\"rony\",\n",
    "    \"empl2\":\"bob\",\n",
    "    \"empl3\":\"rob\"\n",
    "}\n",
    "print(d)\n",
    "new_d = {v:k for (k,v) in d.items()}\n",
    "print(new_d)"
   ]
  },
  {
   "cell_type": "code",
   "execution_count": null,
   "id": "d84a83ea-0daa-4978-ab33-34863a990cb8",
   "metadata": {},
   "outputs": [],
   "source": []
  }
 ],
 "metadata": {
  "kernelspec": {
   "display_name": "Python 3 (ipykernel)",
   "language": "python",
   "name": "python3"
  },
  "language_info": {
   "codemirror_mode": {
    "name": "ipython",
    "version": 3
   },
   "file_extension": ".py",
   "mimetype": "text/x-python",
   "name": "python",
   "nbconvert_exporter": "python",
   "pygments_lexer": "ipython3",
   "version": "3.10.8"
  }
 },
 "nbformat": 4,
 "nbformat_minor": 5
}
